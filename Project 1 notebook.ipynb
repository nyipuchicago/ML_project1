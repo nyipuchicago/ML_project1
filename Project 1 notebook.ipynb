{
 "cells": [
  {
   "cell_type": "markdown",
   "id": "5fd5949a",
   "metadata": {},
   "source": [
    "# House prices regression by Leon Zhang, Yonjoo Kim, Nicole Yip"
   ]
  },
  {
   "cell_type": "markdown",
   "id": "cec50ee1",
   "metadata": {},
   "source": [
    "## Data cleaning and pre-processing"
   ]
  },
  {
   "cell_type": "code",
   "execution_count": 2,
   "id": "8d29bcec",
   "metadata": {},
   "outputs": [],
   "source": [
    "import numpy as np\n",
    "import pandas as pd\n",
    "import matplotlib.pyplot as plt\n",
    "import seaborn as sns"
   ]
  },
  {
   "cell_type": "markdown",
   "id": "4bc07d41",
   "metadata": {},
   "source": [
    "### Part 1: Data overview"
   ]
  },
  {
   "cell_type": "code",
   "execution_count": 4,
   "id": "1d25649a",
   "metadata": {},
   "outputs": [],
   "source": [
    "# Reading data from file\n",
    "df = pd.read_csv('/Users/nicoly/desktop/UChicago/Machine Learning/ML_project1/kc_house_data.csv')"
   ]
  },
  {
   "cell_type": "code",
   "execution_count": 3,
   "id": "ccb5af15",
   "metadata": {
    "scrolled": true
   },
   "outputs": [
    {
     "data": {
      "text/plain": [
       "(21613, 21)"
      ]
     },
     "execution_count": 3,
     "metadata": {},
     "output_type": "execute_result"
    }
   ],
   "source": [
    "df.shape # shape: samples, attributes"
   ]
  },
  {
   "cell_type": "code",
   "execution_count": 4,
   "id": "e618fbf0",
   "metadata": {
    "scrolled": true
   },
   "outputs": [
    {
     "data": {
      "text/html": [
       "<div>\n",
       "<style scoped>\n",
       "    .dataframe tbody tr th:only-of-type {\n",
       "        vertical-align: middle;\n",
       "    }\n",
       "\n",
       "    .dataframe tbody tr th {\n",
       "        vertical-align: top;\n",
       "    }\n",
       "\n",
       "    .dataframe thead th {\n",
       "        text-align: right;\n",
       "    }\n",
       "</style>\n",
       "<table border=\"1\" class=\"dataframe\">\n",
       "  <thead>\n",
       "    <tr style=\"text-align: right;\">\n",
       "      <th></th>\n",
       "      <th>id</th>\n",
       "      <th>date</th>\n",
       "      <th>price</th>\n",
       "      <th>bedrooms</th>\n",
       "      <th>bathrooms</th>\n",
       "      <th>sqft_living</th>\n",
       "      <th>sqft_lot</th>\n",
       "      <th>floors</th>\n",
       "      <th>waterfront</th>\n",
       "      <th>view</th>\n",
       "      <th>...</th>\n",
       "      <th>grade</th>\n",
       "      <th>sqft_above</th>\n",
       "      <th>sqft_basement</th>\n",
       "      <th>yr_built</th>\n",
       "      <th>yr_renovated</th>\n",
       "      <th>zipcode</th>\n",
       "      <th>lat</th>\n",
       "      <th>long</th>\n",
       "      <th>sqft_living15</th>\n",
       "      <th>sqft_lot15</th>\n",
       "    </tr>\n",
       "  </thead>\n",
       "  <tbody>\n",
       "    <tr>\n",
       "      <th>0</th>\n",
       "      <td>7129300520</td>\n",
       "      <td>20141013T000000</td>\n",
       "      <td>221900.0</td>\n",
       "      <td>3</td>\n",
       "      <td>1.00</td>\n",
       "      <td>1180</td>\n",
       "      <td>5650</td>\n",
       "      <td>1.0</td>\n",
       "      <td>0</td>\n",
       "      <td>0</td>\n",
       "      <td>...</td>\n",
       "      <td>7</td>\n",
       "      <td>1180</td>\n",
       "      <td>0</td>\n",
       "      <td>1955</td>\n",
       "      <td>0</td>\n",
       "      <td>98178</td>\n",
       "      <td>47.5112</td>\n",
       "      <td>-122.257</td>\n",
       "      <td>1340</td>\n",
       "      <td>5650</td>\n",
       "    </tr>\n",
       "    <tr>\n",
       "      <th>1</th>\n",
       "      <td>6414100192</td>\n",
       "      <td>20141209T000000</td>\n",
       "      <td>538000.0</td>\n",
       "      <td>3</td>\n",
       "      <td>2.25</td>\n",
       "      <td>2570</td>\n",
       "      <td>7242</td>\n",
       "      <td>2.0</td>\n",
       "      <td>0</td>\n",
       "      <td>0</td>\n",
       "      <td>...</td>\n",
       "      <td>7</td>\n",
       "      <td>2170</td>\n",
       "      <td>400</td>\n",
       "      <td>1951</td>\n",
       "      <td>1991</td>\n",
       "      <td>98125</td>\n",
       "      <td>47.7210</td>\n",
       "      <td>-122.319</td>\n",
       "      <td>1690</td>\n",
       "      <td>7639</td>\n",
       "    </tr>\n",
       "    <tr>\n",
       "      <th>2</th>\n",
       "      <td>5631500400</td>\n",
       "      <td>20150225T000000</td>\n",
       "      <td>180000.0</td>\n",
       "      <td>2</td>\n",
       "      <td>1.00</td>\n",
       "      <td>770</td>\n",
       "      <td>10000</td>\n",
       "      <td>1.0</td>\n",
       "      <td>0</td>\n",
       "      <td>0</td>\n",
       "      <td>...</td>\n",
       "      <td>6</td>\n",
       "      <td>770</td>\n",
       "      <td>0</td>\n",
       "      <td>1933</td>\n",
       "      <td>0</td>\n",
       "      <td>98028</td>\n",
       "      <td>47.7379</td>\n",
       "      <td>-122.233</td>\n",
       "      <td>2720</td>\n",
       "      <td>8062</td>\n",
       "    </tr>\n",
       "    <tr>\n",
       "      <th>3</th>\n",
       "      <td>2487200875</td>\n",
       "      <td>20141209T000000</td>\n",
       "      <td>604000.0</td>\n",
       "      <td>4</td>\n",
       "      <td>3.00</td>\n",
       "      <td>1960</td>\n",
       "      <td>5000</td>\n",
       "      <td>1.0</td>\n",
       "      <td>0</td>\n",
       "      <td>0</td>\n",
       "      <td>...</td>\n",
       "      <td>7</td>\n",
       "      <td>1050</td>\n",
       "      <td>910</td>\n",
       "      <td>1965</td>\n",
       "      <td>0</td>\n",
       "      <td>98136</td>\n",
       "      <td>47.5208</td>\n",
       "      <td>-122.393</td>\n",
       "      <td>1360</td>\n",
       "      <td>5000</td>\n",
       "    </tr>\n",
       "    <tr>\n",
       "      <th>4</th>\n",
       "      <td>1954400510</td>\n",
       "      <td>20150218T000000</td>\n",
       "      <td>510000.0</td>\n",
       "      <td>3</td>\n",
       "      <td>2.00</td>\n",
       "      <td>1680</td>\n",
       "      <td>8080</td>\n",
       "      <td>1.0</td>\n",
       "      <td>0</td>\n",
       "      <td>0</td>\n",
       "      <td>...</td>\n",
       "      <td>8</td>\n",
       "      <td>1680</td>\n",
       "      <td>0</td>\n",
       "      <td>1987</td>\n",
       "      <td>0</td>\n",
       "      <td>98074</td>\n",
       "      <td>47.6168</td>\n",
       "      <td>-122.045</td>\n",
       "      <td>1800</td>\n",
       "      <td>7503</td>\n",
       "    </tr>\n",
       "  </tbody>\n",
       "</table>\n",
       "<p>5 rows × 21 columns</p>\n",
       "</div>"
      ],
      "text/plain": [
       "           id             date     price  bedrooms  bathrooms  sqft_living  \\\n",
       "0  7129300520  20141013T000000  221900.0         3       1.00         1180   \n",
       "1  6414100192  20141209T000000  538000.0         3       2.25         2570   \n",
       "2  5631500400  20150225T000000  180000.0         2       1.00          770   \n",
       "3  2487200875  20141209T000000  604000.0         4       3.00         1960   \n",
       "4  1954400510  20150218T000000  510000.0         3       2.00         1680   \n",
       "\n",
       "   sqft_lot  floors  waterfront  view  ...  grade  sqft_above  sqft_basement  \\\n",
       "0      5650     1.0           0     0  ...      7        1180              0   \n",
       "1      7242     2.0           0     0  ...      7        2170            400   \n",
       "2     10000     1.0           0     0  ...      6         770              0   \n",
       "3      5000     1.0           0     0  ...      7        1050            910   \n",
       "4      8080     1.0           0     0  ...      8        1680              0   \n",
       "\n",
       "   yr_built  yr_renovated  zipcode      lat     long  sqft_living15  \\\n",
       "0      1955             0    98178  47.5112 -122.257           1340   \n",
       "1      1951          1991    98125  47.7210 -122.319           1690   \n",
       "2      1933             0    98028  47.7379 -122.233           2720   \n",
       "3      1965             0    98136  47.5208 -122.393           1360   \n",
       "4      1987             0    98074  47.6168 -122.045           1800   \n",
       "\n",
       "   sqft_lot15  \n",
       "0        5650  \n",
       "1        7639  \n",
       "2        8062  \n",
       "3        5000  \n",
       "4        7503  \n",
       "\n",
       "[5 rows x 21 columns]"
      ]
     },
     "execution_count": 4,
     "metadata": {},
     "output_type": "execute_result"
    }
   ],
   "source": [
    "df.head()"
   ]
  },
  {
   "cell_type": "markdown",
   "id": "cd0c953b",
   "metadata": {},
   "source": [
    "### Part 2: Data cleaning"
   ]
  },
  {
   "cell_type": "code",
   "execution_count": 5,
   "id": "b9461462",
   "metadata": {
    "scrolled": true
   },
   "outputs": [
    {
     "data": {
      "text/plain": [
       "id               0\n",
       "date             0\n",
       "price            0\n",
       "bedrooms         0\n",
       "bathrooms        0\n",
       "sqft_living      0\n",
       "sqft_lot         0\n",
       "floors           0\n",
       "waterfront       0\n",
       "view             0\n",
       "condition        0\n",
       "grade            0\n",
       "sqft_above       0\n",
       "sqft_basement    0\n",
       "yr_built         0\n",
       "yr_renovated     0\n",
       "zipcode          0\n",
       "lat              0\n",
       "long             0\n",
       "sqft_living15    0\n",
       "sqft_lot15       0\n",
       "dtype: int64"
      ]
     },
     "execution_count": 5,
     "metadata": {},
     "output_type": "execute_result"
    }
   ],
   "source": [
    "# Check missing values\n",
    "null_sum = df.isnull().sum()\n",
    "null_sum"
   ]
  },
  {
   "cell_type": "markdown",
   "id": "cf3aed84",
   "metadata": {},
   "source": [
    "There are no missing values in this dataset."
   ]
  },
  {
   "cell_type": "code",
   "execution_count": 6,
   "id": "657650aa",
   "metadata": {
    "scrolled": true
   },
   "outputs": [
    {
     "data": {
      "text/plain": [
       "id                 int64\n",
       "date              object\n",
       "price            float64\n",
       "bedrooms           int64\n",
       "bathrooms        float64\n",
       "sqft_living        int64\n",
       "sqft_lot           int64\n",
       "floors           float64\n",
       "waterfront         int64\n",
       "view               int64\n",
       "condition          int64\n",
       "grade              int64\n",
       "sqft_above         int64\n",
       "sqft_basement      int64\n",
       "yr_built           int64\n",
       "yr_renovated       int64\n",
       "zipcode            int64\n",
       "lat              float64\n",
       "long             float64\n",
       "sqft_living15      int64\n",
       "sqft_lot15         int64\n",
       "dtype: object"
      ]
     },
     "execution_count": 6,
     "metadata": {},
     "output_type": "execute_result"
    }
   ],
   "source": [
    "df.dtypes"
   ]
  },
  {
   "cell_type": "code",
   "execution_count": 7,
   "id": "e42f9e14",
   "metadata": {},
   "outputs": [],
   "source": [
    "# What to do with date as object? --> Check this"
   ]
  },
  {
   "cell_type": "markdown",
   "id": "ad00ed32",
   "metadata": {},
   "source": [
    "#### Processing numerical data"
   ]
  },
  {
   "cell_type": "code",
   "execution_count": 8,
   "id": "f4ec22af",
   "metadata": {},
   "outputs": [],
   "source": [
    "# Is it better to keep int and float separate or convert all to float?"
   ]
  },
  {
   "cell_type": "code",
   "execution_count": 9,
   "id": "f2d5a0b0",
   "metadata": {
    "scrolled": false
   },
   "outputs": [
    {
     "data": {
      "text/html": [
       "<div>\n",
       "<style scoped>\n",
       "    .dataframe tbody tr th:only-of-type {\n",
       "        vertical-align: middle;\n",
       "    }\n",
       "\n",
       "    .dataframe tbody tr th {\n",
       "        vertical-align: top;\n",
       "    }\n",
       "\n",
       "    .dataframe thead th {\n",
       "        text-align: right;\n",
       "    }\n",
       "</style>\n",
       "<table border=\"1\" class=\"dataframe\">\n",
       "  <thead>\n",
       "    <tr style=\"text-align: right;\">\n",
       "      <th></th>\n",
       "      <th>id</th>\n",
       "      <th>price</th>\n",
       "      <th>bedrooms</th>\n",
       "      <th>bathrooms</th>\n",
       "      <th>sqft_living</th>\n",
       "      <th>sqft_lot</th>\n",
       "      <th>floors</th>\n",
       "      <th>waterfront</th>\n",
       "      <th>view</th>\n",
       "      <th>condition</th>\n",
       "      <th>grade</th>\n",
       "      <th>sqft_above</th>\n",
       "      <th>sqft_basement</th>\n",
       "      <th>yr_built</th>\n",
       "      <th>yr_renovated</th>\n",
       "      <th>zipcode</th>\n",
       "      <th>lat</th>\n",
       "      <th>long</th>\n",
       "      <th>sqft_living15</th>\n",
       "      <th>sqft_lot15</th>\n",
       "    </tr>\n",
       "  </thead>\n",
       "  <tbody>\n",
       "    <tr>\n",
       "      <th>count</th>\n",
       "      <td>2.161300e+04</td>\n",
       "      <td>2.161300e+04</td>\n",
       "      <td>21613.000000</td>\n",
       "      <td>21613.000000</td>\n",
       "      <td>21613.000000</td>\n",
       "      <td>2.161300e+04</td>\n",
       "      <td>21613.000000</td>\n",
       "      <td>21613.000000</td>\n",
       "      <td>21613.000000</td>\n",
       "      <td>21613.000000</td>\n",
       "      <td>21613.000000</td>\n",
       "      <td>21613.000000</td>\n",
       "      <td>21613.000000</td>\n",
       "      <td>21613.000000</td>\n",
       "      <td>21613.000000</td>\n",
       "      <td>21613.000000</td>\n",
       "      <td>21613.000000</td>\n",
       "      <td>21613.000000</td>\n",
       "      <td>21613.000000</td>\n",
       "      <td>21613.000000</td>\n",
       "    </tr>\n",
       "    <tr>\n",
       "      <th>mean</th>\n",
       "      <td>4.580302e+09</td>\n",
       "      <td>5.400881e+05</td>\n",
       "      <td>3.370842</td>\n",
       "      <td>2.114757</td>\n",
       "      <td>2079.899736</td>\n",
       "      <td>1.510697e+04</td>\n",
       "      <td>1.494309</td>\n",
       "      <td>0.007542</td>\n",
       "      <td>0.234303</td>\n",
       "      <td>3.409430</td>\n",
       "      <td>7.656873</td>\n",
       "      <td>1788.390691</td>\n",
       "      <td>291.509045</td>\n",
       "      <td>1971.005136</td>\n",
       "      <td>84.402258</td>\n",
       "      <td>98077.939805</td>\n",
       "      <td>47.560053</td>\n",
       "      <td>-122.213896</td>\n",
       "      <td>1986.552492</td>\n",
       "      <td>12768.455652</td>\n",
       "    </tr>\n",
       "    <tr>\n",
       "      <th>std</th>\n",
       "      <td>2.876566e+09</td>\n",
       "      <td>3.671272e+05</td>\n",
       "      <td>0.930062</td>\n",
       "      <td>0.770163</td>\n",
       "      <td>918.440897</td>\n",
       "      <td>4.142051e+04</td>\n",
       "      <td>0.539989</td>\n",
       "      <td>0.086517</td>\n",
       "      <td>0.766318</td>\n",
       "      <td>0.650743</td>\n",
       "      <td>1.175459</td>\n",
       "      <td>828.090978</td>\n",
       "      <td>442.575043</td>\n",
       "      <td>29.373411</td>\n",
       "      <td>401.679240</td>\n",
       "      <td>53.505026</td>\n",
       "      <td>0.138564</td>\n",
       "      <td>0.140828</td>\n",
       "      <td>685.391304</td>\n",
       "      <td>27304.179631</td>\n",
       "    </tr>\n",
       "    <tr>\n",
       "      <th>min</th>\n",
       "      <td>1.000102e+06</td>\n",
       "      <td>7.500000e+04</td>\n",
       "      <td>0.000000</td>\n",
       "      <td>0.000000</td>\n",
       "      <td>290.000000</td>\n",
       "      <td>5.200000e+02</td>\n",
       "      <td>1.000000</td>\n",
       "      <td>0.000000</td>\n",
       "      <td>0.000000</td>\n",
       "      <td>1.000000</td>\n",
       "      <td>1.000000</td>\n",
       "      <td>290.000000</td>\n",
       "      <td>0.000000</td>\n",
       "      <td>1900.000000</td>\n",
       "      <td>0.000000</td>\n",
       "      <td>98001.000000</td>\n",
       "      <td>47.155900</td>\n",
       "      <td>-122.519000</td>\n",
       "      <td>399.000000</td>\n",
       "      <td>651.000000</td>\n",
       "    </tr>\n",
       "    <tr>\n",
       "      <th>25%</th>\n",
       "      <td>2.123049e+09</td>\n",
       "      <td>3.219500e+05</td>\n",
       "      <td>3.000000</td>\n",
       "      <td>1.750000</td>\n",
       "      <td>1427.000000</td>\n",
       "      <td>5.040000e+03</td>\n",
       "      <td>1.000000</td>\n",
       "      <td>0.000000</td>\n",
       "      <td>0.000000</td>\n",
       "      <td>3.000000</td>\n",
       "      <td>7.000000</td>\n",
       "      <td>1190.000000</td>\n",
       "      <td>0.000000</td>\n",
       "      <td>1951.000000</td>\n",
       "      <td>0.000000</td>\n",
       "      <td>98033.000000</td>\n",
       "      <td>47.471000</td>\n",
       "      <td>-122.328000</td>\n",
       "      <td>1490.000000</td>\n",
       "      <td>5100.000000</td>\n",
       "    </tr>\n",
       "    <tr>\n",
       "      <th>50%</th>\n",
       "      <td>3.904930e+09</td>\n",
       "      <td>4.500000e+05</td>\n",
       "      <td>3.000000</td>\n",
       "      <td>2.250000</td>\n",
       "      <td>1910.000000</td>\n",
       "      <td>7.618000e+03</td>\n",
       "      <td>1.500000</td>\n",
       "      <td>0.000000</td>\n",
       "      <td>0.000000</td>\n",
       "      <td>3.000000</td>\n",
       "      <td>7.000000</td>\n",
       "      <td>1560.000000</td>\n",
       "      <td>0.000000</td>\n",
       "      <td>1975.000000</td>\n",
       "      <td>0.000000</td>\n",
       "      <td>98065.000000</td>\n",
       "      <td>47.571800</td>\n",
       "      <td>-122.230000</td>\n",
       "      <td>1840.000000</td>\n",
       "      <td>7620.000000</td>\n",
       "    </tr>\n",
       "    <tr>\n",
       "      <th>75%</th>\n",
       "      <td>7.308900e+09</td>\n",
       "      <td>6.450000e+05</td>\n",
       "      <td>4.000000</td>\n",
       "      <td>2.500000</td>\n",
       "      <td>2550.000000</td>\n",
       "      <td>1.068800e+04</td>\n",
       "      <td>2.000000</td>\n",
       "      <td>0.000000</td>\n",
       "      <td>0.000000</td>\n",
       "      <td>4.000000</td>\n",
       "      <td>8.000000</td>\n",
       "      <td>2210.000000</td>\n",
       "      <td>560.000000</td>\n",
       "      <td>1997.000000</td>\n",
       "      <td>0.000000</td>\n",
       "      <td>98118.000000</td>\n",
       "      <td>47.678000</td>\n",
       "      <td>-122.125000</td>\n",
       "      <td>2360.000000</td>\n",
       "      <td>10083.000000</td>\n",
       "    </tr>\n",
       "    <tr>\n",
       "      <th>max</th>\n",
       "      <td>9.900000e+09</td>\n",
       "      <td>7.700000e+06</td>\n",
       "      <td>33.000000</td>\n",
       "      <td>8.000000</td>\n",
       "      <td>13540.000000</td>\n",
       "      <td>1.651359e+06</td>\n",
       "      <td>3.500000</td>\n",
       "      <td>1.000000</td>\n",
       "      <td>4.000000</td>\n",
       "      <td>5.000000</td>\n",
       "      <td>13.000000</td>\n",
       "      <td>9410.000000</td>\n",
       "      <td>4820.000000</td>\n",
       "      <td>2015.000000</td>\n",
       "      <td>2015.000000</td>\n",
       "      <td>98199.000000</td>\n",
       "      <td>47.777600</td>\n",
       "      <td>-121.315000</td>\n",
       "      <td>6210.000000</td>\n",
       "      <td>871200.000000</td>\n",
       "    </tr>\n",
       "  </tbody>\n",
       "</table>\n",
       "</div>"
      ],
      "text/plain": [
       "                 id         price      bedrooms     bathrooms   sqft_living  \\\n",
       "count  2.161300e+04  2.161300e+04  21613.000000  21613.000000  21613.000000   \n",
       "mean   4.580302e+09  5.400881e+05      3.370842      2.114757   2079.899736   \n",
       "std    2.876566e+09  3.671272e+05      0.930062      0.770163    918.440897   \n",
       "min    1.000102e+06  7.500000e+04      0.000000      0.000000    290.000000   \n",
       "25%    2.123049e+09  3.219500e+05      3.000000      1.750000   1427.000000   \n",
       "50%    3.904930e+09  4.500000e+05      3.000000      2.250000   1910.000000   \n",
       "75%    7.308900e+09  6.450000e+05      4.000000      2.500000   2550.000000   \n",
       "max    9.900000e+09  7.700000e+06     33.000000      8.000000  13540.000000   \n",
       "\n",
       "           sqft_lot        floors    waterfront          view     condition  \\\n",
       "count  2.161300e+04  21613.000000  21613.000000  21613.000000  21613.000000   \n",
       "mean   1.510697e+04      1.494309      0.007542      0.234303      3.409430   \n",
       "std    4.142051e+04      0.539989      0.086517      0.766318      0.650743   \n",
       "min    5.200000e+02      1.000000      0.000000      0.000000      1.000000   \n",
       "25%    5.040000e+03      1.000000      0.000000      0.000000      3.000000   \n",
       "50%    7.618000e+03      1.500000      0.000000      0.000000      3.000000   \n",
       "75%    1.068800e+04      2.000000      0.000000      0.000000      4.000000   \n",
       "max    1.651359e+06      3.500000      1.000000      4.000000      5.000000   \n",
       "\n",
       "              grade    sqft_above  sqft_basement      yr_built  yr_renovated  \\\n",
       "count  21613.000000  21613.000000   21613.000000  21613.000000  21613.000000   \n",
       "mean       7.656873   1788.390691     291.509045   1971.005136     84.402258   \n",
       "std        1.175459    828.090978     442.575043     29.373411    401.679240   \n",
       "min        1.000000    290.000000       0.000000   1900.000000      0.000000   \n",
       "25%        7.000000   1190.000000       0.000000   1951.000000      0.000000   \n",
       "50%        7.000000   1560.000000       0.000000   1975.000000      0.000000   \n",
       "75%        8.000000   2210.000000     560.000000   1997.000000      0.000000   \n",
       "max       13.000000   9410.000000    4820.000000   2015.000000   2015.000000   \n",
       "\n",
       "            zipcode           lat          long  sqft_living15     sqft_lot15  \n",
       "count  21613.000000  21613.000000  21613.000000   21613.000000   21613.000000  \n",
       "mean   98077.939805     47.560053   -122.213896    1986.552492   12768.455652  \n",
       "std       53.505026      0.138564      0.140828     685.391304   27304.179631  \n",
       "min    98001.000000     47.155900   -122.519000     399.000000     651.000000  \n",
       "25%    98033.000000     47.471000   -122.328000    1490.000000    5100.000000  \n",
       "50%    98065.000000     47.571800   -122.230000    1840.000000    7620.000000  \n",
       "75%    98118.000000     47.678000   -122.125000    2360.000000   10083.000000  \n",
       "max    98199.000000     47.777600   -121.315000    6210.000000  871200.000000  "
      ]
     },
     "execution_count": 9,
     "metadata": {},
     "output_type": "execute_result"
    }
   ],
   "source": [
    "df.describe()"
   ]
  },
  {
   "cell_type": "code",
   "execution_count": 10,
   "id": "c8602d25",
   "metadata": {},
   "outputs": [],
   "source": [
    "# How to justify not processing zip/lat/long?"
   ]
  },
  {
   "cell_type": "markdown",
   "id": "e2e55c54",
   "metadata": {},
   "source": [
    "- bedrooms\n",
    "- bathrooms\n",
    "- sqft_living\n",
    "- sqft_lot\n",
    "- floors\n",
    "- waterfront\n",
    "- view\n",
    "- condition\n",
    "- grade\n",
    "- sqft_above\n",
    "- sqft_basement\n",
    "- yr_built\n",
    "- yr_renovated\n",
    "- sqft_living15\n",
    "- sqft_lot15"
   ]
  },
  {
   "cell_type": "markdown",
   "id": "88f8a32c",
   "metadata": {},
   "source": [
    "We will decide appropriate outliers to remove: if it is in the hundreds, we will remove them as they are likely true outliers. In the thousands, it may represent natural variation that we want to keep in the dataset."
   ]
  },
  {
   "cell_type": "markdown",
   "id": "124415df",
   "metadata": {},
   "source": [
    "#### bedrooms"
   ]
  },
  {
   "cell_type": "code",
   "execution_count": 11,
   "id": "fbb1bc1d",
   "metadata": {
    "scrolled": false
   },
   "outputs": [
    {
     "data": {
      "text/plain": [
       "<AxesSubplot:xlabel='bedrooms'>"
      ]
     },
     "execution_count": 11,
     "metadata": {},
     "output_type": "execute_result"
    },
    {
     "data": {
      "image/png": "[encoded data removed]",
      "text/plain": [
       "<Figure size 640x480 with 1 Axes>"
      ]
     },
     "metadata": {},
     "output_type": "display_data"
    }
   ],
   "source": [
    "# draw box plot to check outliers\n",
    "snsb.set_style(\"darkgrid\",{'axes.grid' : True})\n",
    "sns.boxplot(x=df['bedrooms'], orient='h')"
   ]
  },
  {
   "cell_type": "code",
   "execution_count": 20,
   "id": "28a08046",
   "metadata": {},
   "outputs": [
    {
     "name": "stdout",
     "output_type": "stream",
     "text": [
      "Q1: 3.0 Q3: 4.0 min: 1.5 max: 5.5\n",
      "Len of outliers under min 212 Len of outliers above max 334\n"
     ]
    }
   ],
   "source": [
    "Q1 = np.quantile(df['bedrooms'], 0.25)\n",
    "Q3 = np.quantile(df['bedrooms'], 0.75)\n",
    "IQR = Q3 - Q1\n",
    "lower_thresh = Q1 - 1.5 * IQR\n",
    "upper_thresh = Q3 + 1.5 * IQR\n",
    "print(\"Q1:\", Q1, \"Q3:\", Q3, \"min:\", lower_thresh, \"max:\", upper_thresh)\n",
    "print(\"Len of outliers under min\", len(df[df['bedrooms']< lower_thresh]), \"Len of outliers above max\", len(df[df['bedrooms']> upper_thresh]))"
   ]
  },
  {
   "cell_type": "code",
   "execution_count": 21,
   "id": "d89b4e05",
   "metadata": {
    "scrolled": true
   },
   "outputs": [
    {
     "data": {
      "text/plain": [
       "(21613, 21)"
      ]
     },
     "execution_count": 21,
     "metadata": {},
     "output_type": "execute_result"
    }
   ],
   "source": [
    "df.shape"
   ]
  },
  {
   "cell_type": "code",
   "execution_count": 23,
   "id": "ebc241ab",
   "metadata": {},
   "outputs": [
    {
     "data": {
      "text/plain": [
       "(21067, 21)"
      ]
     },
     "execution_count": 23,
     "metadata": {},
     "output_type": "execute_result"
    }
   ],
   "source": [
    "# Based on the above calculation, and our standard we wrote above, we will remove samples that are outliers\n",
    "df.drop(df[df['bedrooms'] > upper_thresh].index, inplace=True)\n",
    "df.drop(df[df['bedrooms'] < lower_thresh].index, inplace=True)\n",
    "df.shape"
   ]
  },
  {
   "cell_type": "markdown",
   "id": "11fadcc9",
   "metadata": {},
   "source": [
    "#### bathrooms"
   ]
  },
  {
   "cell_type": "code",
   "execution_count": 24,
   "id": "10d956bf",
   "metadata": {
    "scrolled": true
   },
   "outputs": [
    {
     "data": {
      "text/plain": [
       "<AxesSubplot:xlabel='bathrooms'>"
      ]
     },
     "execution_count": 24,
     "metadata": {},
     "output_type": "execute_result"
    },
    {
     "data": {
      "image/png": "[encoded data removed]",
      "text/plain": [
       "<Figure size 640x480 with 1 Axes>"
      ]
     },
     "metadata": {},
     "output_type": "display_data"
    }
   ],
   "source": [
    "# draw box plot to check outliers\n",
    "sns.set_style(\"darkgrid\",{'axes.grid' : True})\n",
    "sns.boxplot(x=df['bathrooms'], orient='h')"
   ]
  },
  {
   "cell_type": "code",
   "execution_count": 25,
   "id": "8bf19f1c",
   "metadata": {},
   "outputs": [
    {
     "name": "stdout",
     "output_type": "stream",
     "text": [
      "Q1: 1.75 Q3: 2.5 min: 0.625 max: 3.625\n",
      "Len of outliers under min 3 Len of outliers above max 458\n"
     ]
    }
   ],
   "source": [
    "Q1 = np.quantile(df['bathrooms'], 0.25)\n",
    "Q3 = np.quantile(df['bathrooms'], 0.75)\n",
    "IQR = Q3 - Q1\n",
    "lower_thresh = Q1 - 1.5 * IQR\n",
    "upper_thresh = Q3 + 1.5 * IQR\n",
    "print(\"Q1:\", Q1, \"Q3:\", Q3, \"min:\", lower_thresh, \"max:\", upper_thresh)\n",
    "print(\"Len of outliers under min\", len(df[df['bathrooms']< lower_thresh]), \"Len of outliers above max\", len(df[df['bathrooms']> upper_thresh]))"
   ]
  },
  {
   "cell_type": "code",
   "execution_count": 26,
   "id": "f2ab3e2e",
   "metadata": {},
   "outputs": [
    {
     "data": {
      "text/plain": [
       "(21067, 21)"
      ]
     },
     "execution_count": 26,
     "metadata": {},
     "output_type": "execute_result"
    }
   ],
   "source": [
    "df.shape"
   ]
  },
  {
   "cell_type": "code",
   "execution_count": 27,
   "id": "a8b140e8",
   "metadata": {},
   "outputs": [
    {
     "data": {
      "text/plain": [
       "(20606, 21)"
      ]
     },
     "execution_count": 27,
     "metadata": {},
     "output_type": "execute_result"
    }
   ],
   "source": [
    "# Based on the above calculation, and our standard we wrote above, we will remove samples that are outliers\n",
    "df.drop(df[df['bathrooms'] > upper_thresh].index, inplace=True)\n",
    "df.drop(df[df['bathrooms'] < lower_thresh].index, inplace=True)\n",
    "df.shape"
   ]
  },
  {
   "cell_type": "markdown",
   "id": "a9c20665",
   "metadata": {},
   "source": [
    "#### sqft_living"
   ]
  },
  {
   "cell_type": "code",
   "execution_count": 28,
   "id": "0ae99f02",
   "metadata": {
    "scrolled": false
   },
   "outputs": [
    {
     "data": {
      "text/plain": [
       "<AxesSubplot:xlabel='sqft_living'>"
      ]
     },
     "execution_count": 28,
     "metadata": {},
     "output_type": "execute_result"
    },
    {
     "data": {
      "image/png": "[encoded data removed]",
      "text/plain": [
       "<Figure size 640x480 with 1 Axes>"
      ]
     },
     "metadata": {},
     "output_type": "display_data"
    }
   ],
   "source": [
    "# draw box plot to check outliers\n",
    "sns.set_style(\"darkgrid\",{'axes.grid' : True})\n",
    "sns.boxplot(x=df['sqft_living'], orient='h')"
   ]
  },
  {
   "cell_type": "code",
   "execution_count": 29,
   "id": "fc466438",
   "metadata": {},
   "outputs": [
    {
     "name": "stdout",
     "output_type": "stream",
     "text": [
      "Q1: 1420.0 Q3: 2480.0 min: -170.0 max: 4070.0\n",
      "Len of outliers under min 0 Len of outliers above max 377\n"
     ]
    }
   ],
   "source": [
    "Q1 = np.quantile(df['sqft_living'], 0.25)\n",
    "Q3 = np.quantile(df['sqft_living'], 0.75)\n",
    "IQR = Q3 - Q1\n",
    "lower_thresh = Q1 - 1.5 * IQR\n",
    "upper_thresh = Q3 + 1.5 * IQR\n",
    "print(\"Q1:\", Q1, \"Q3:\", Q3, \"min:\", lower_thresh, \"max:\", upper_thresh)\n",
    "print(\"Len of outliers under min\", len(df[df['sqft_living']< lower_thresh]), \"Len of outliers above max\", len(df[df['sqft_living']> upper_thresh]))"
   ]
  },
  {
   "cell_type": "code",
   "execution_count": 30,
   "id": "09dce97d",
   "metadata": {},
   "outputs": [
    {
     "data": {
      "text/plain": [
       "(20606, 21)"
      ]
     },
     "execution_count": 30,
     "metadata": {},
     "output_type": "execute_result"
    }
   ],
   "source": [
    "df.shape"
   ]
  },
  {
   "cell_type": "code",
   "execution_count": 32,
   "id": "0fa77e4f",
   "metadata": {},
   "outputs": [
    {
     "data": {
      "text/plain": [
       "(20229, 21)"
      ]
     },
     "execution_count": 32,
     "metadata": {},
     "output_type": "execute_result"
    }
   ],
   "source": [
    "# Based on the above calculation, and our standard we wrote above, we will remove samples that are outliers\n",
    "df.drop(df[df['sqft_living'] > upper_thresh].index, inplace=True)\n",
    "df.drop(df[df['sqft_living'] < lower_thresh].index, inplace=True)\n",
    "df.shape"
   ]
  },
  {
   "cell_type": "markdown",
   "id": "e47d5bd1",
   "metadata": {},
   "source": [
    "#### sqft_lot"
   ]
  },
  {
   "cell_type": "code",
   "execution_count": 14,
   "id": "f7bbcb3f",
   "metadata": {
    "scrolled": false
   },
   "outputs": [
    {
     "data": {
      "text/plain": [
       "<AxesSubplot:xlabel='sqft_lot'>"
      ]
     },
     "execution_count": 14,
     "metadata": {},
     "output_type": "execute_result"
    },
    {
     "data": {
      "image/png": "[encoded data removed]",
      "text/plain": [
       "<Figure size 640x480 with 1 Axes>"
      ]
     },
     "metadata": {},
     "output_type": "display_data"
    }
   ],
   "source": [
    "# draw box plot to check outliers\n",
    "sns.set_style(\"darkgrid\",{'axes.grid' : True})\n",
    "sns.boxplot(x=df['sqft_lot'], orient='h')"
   ]
  },
  {
   "cell_type": "code",
   "execution_count": 35,
   "id": "95af45a7",
   "metadata": {
    "scrolled": true
   },
   "outputs": [
    {
     "name": "stdout",
     "output_type": "stream",
     "text": [
      "Q1: 5000.0 Q3: 10300.0 min: -2950.0 max: 18250.0\n",
      "Len of outliers under min 0 Len of outliers above max 2148\n"
     ]
    }
   ],
   "source": [
    "Q1 = np.quantile(df['sqft_lot'], 0.25)\n",
    "Q3 = np.quantile(df['sqft_lot'], 0.75)\n",
    "IQR = Q3 - Q1\n",
    "lower_thresh = Q1 - 1.5 * IQR\n",
    "upper_thresh = Q3 + 1.5 * IQR\n",
    "print(\"Q1:\", Q1, \"Q3:\", Q3, \"min:\", lower_thresh, \"max:\", upper_thresh)\n",
    "print(\"Len of outliers under min\", len(df[df['sqft_lot']< lower_thresh]), \"Len of outliers above max\", len(df[df['sqft_lot']> upper_thresh]))"
   ]
  },
  {
   "cell_type": "markdown",
   "id": "94ba3611",
   "metadata": {},
   "source": [
    "As we have mentioned above, we will not remove outliers if we believe that it may be due to natural variation. In this variable, there are 2148 outliers in out dataset which originally has above 20k instances. We believe that removing these outliers may impact our analysis and create an unrealistic model that is not complex enough."
   ]
  },
  {
   "cell_type": "code",
   "execution_count": 36,
   "id": "1a7fb2fc",
   "metadata": {
    "scrolled": true
   },
   "outputs": [
    {
     "data": {
      "text/plain": [
       "(20229, 21)"
      ]
     },
     "execution_count": 36,
     "metadata": {},
     "output_type": "execute_result"
    }
   ],
   "source": [
    "df.shape"
   ]
  },
  {
   "cell_type": "markdown",
   "id": "ebf48f1a",
   "metadata": {},
   "source": [
    "#### floors"
   ]
  },
  {
   "cell_type": "code",
   "execution_count": 15,
   "id": "a63ae24e",
   "metadata": {
    "scrolled": true
   },
   "outputs": [
    {
     "data": {
      "text/plain": [
       "<AxesSubplot:xlabel='floors'>"
      ]
     },
     "execution_count": 15,
     "metadata": {},
     "output_type": "execute_result"
    },
    {
     "data": {
      "image/png": "[encoded data removed]",
      "text/plain": [
       "<Figure size 640x480 with 1 Axes>"
      ]
     },
     "metadata": {},
     "output_type": "display_data"
    }
   ],
   "source": [
    "# draw box plot to check outliers\n",
    "sns.set_style(\"darkgrid\",{'axes.grid' : True})\n",
    "sns.boxplot(x=df['floors'], orient='h')"
   ]
  },
  {
   "cell_type": "code",
   "execution_count": 37,
   "id": "24e2671f",
   "metadata": {},
   "outputs": [
    {
     "name": "stdout",
     "output_type": "stream",
     "text": [
      "Q1: 1.0 Q3: 2.0 min: -0.5 max: 3.5\n",
      "Len of outliers under min 0 Len of outliers above max 0\n"
     ]
    }
   ],
   "source": [
    "Q1 = np.quantile(df['floors'], 0.25)\n",
    "Q3 = np.quantile(df['floors'], 0.75)\n",
    "IQR = Q3 - Q1\n",
    "lower_thresh = Q1 - 1.5 * IQR\n",
    "upper_thresh = Q3 + 1.5 * IQR\n",
    "print(\"Q1:\", Q1, \"Q3:\", Q3, \"min:\", lower_thresh, \"max:\", upper_thresh)\n",
    "print(\"Len of outliers under min\", len(df[df['floors']< lower_thresh]), \"Len of outliers above max\", len(df[df['floors']> upper_thresh]))"
   ]
  },
  {
   "cell_type": "markdown",
   "id": "20fe3a82",
   "metadata": {},
   "source": [
    "No outliers. "
   ]
  },
  {
   "cell_type": "markdown",
   "id": "ce863db2",
   "metadata": {},
   "source": [
    "#### waterfront"
   ]
  },
  {
   "cell_type": "code",
   "execution_count": 16,
   "id": "b6b21728",
   "metadata": {
    "scrolled": false
   },
   "outputs": [
    {
     "data": {
      "text/plain": [
       "<AxesSubplot:xlabel='waterfront'>"
      ]
     },
     "execution_count": 16,
     "metadata": {},
     "output_type": "execute_result"
    },
    {
     "data": {
      "image/png": "[encoded data removed]",
      "text/plain": [
       "<Figure size 640x480 with 1 Axes>"
      ]
     },
     "metadata": {},
     "output_type": "display_data"
    }
   ],
   "source": [
    "# draw box plot to check outliers\n",
    "sns.set_style(\"darkgrid\",{'axes.grid' : True})\n",
    "sns.boxplot(x=df['waterfront'], orient='h')"
   ]
  },
  {
   "cell_type": "code",
   "execution_count": 38,
   "id": "1c77d922",
   "metadata": {
    "scrolled": true
   },
   "outputs": [
    {
     "name": "stdout",
     "output_type": "stream",
     "text": [
      "Q1: 0.0 Q3: 0.0 min: 0.0 max: 0.0\n",
      "Len of outliers under min 0 Len of outliers above max 114\n"
     ]
    }
   ],
   "source": [
    "Q1 = np.quantile(df['waterfront'], 0.25)\n",
    "Q3 = np.quantile(df['waterfront'], 0.75)\n",
    "IQR = Q3 - Q1\n",
    "lower_thresh = Q1 - 1.5 * IQR\n",
    "upper_thresh = Q3 + 1.5 * IQR\n",
    "print(\"Q1:\", Q1, \"Q3:\", Q3, \"min:\", lower_thresh, \"max:\", upper_thresh)\n",
    "print(\"Len of outliers under min\", len(df[df['waterfront']< lower_thresh]), \"Len of outliers above max\", len(df[df['waterfront']> upper_thresh]))"
   ]
  },
  {
   "cell_type": "markdown",
   "id": "2f7fbc73",
   "metadata": {},
   "source": [
    "With this case, there are 114 outliers. However, all these outliers, if we refer to df.describe from above, are \"1\", indicating the presence of a waterfront property. These are not technically outliers, in our opinion, as there are simply just not many properties that are waterfront. Instead of removing them, we will note not to use \"waterfront\" as a feature in our models, as it is not a common enough feature to gain information from, but also we will not remove it as outliers as the 114 instances may have useful information about the houses other than its property of having a waterfront location."
   ]
  },
  {
   "cell_type": "markdown",
   "id": "b9c2d15b",
   "metadata": {},
   "source": [
    "#### view"
   ]
  },
  {
   "cell_type": "code",
   "execution_count": 17,
   "id": "f5f041e8",
   "metadata": {
    "scrolled": true
   },
   "outputs": [
    {
     "data": {
      "text/plain": [
       "<AxesSubplot:xlabel='view'>"
      ]
     },
     "execution_count": 17,
     "metadata": {},
     "output_type": "execute_result"
    },
    {
     "data": {
      "image/png": "[encoded data removed]",
      "text/plain": [
       "<Figure size 640x480 with 1 Axes>"
      ]
     },
     "metadata": {},
     "output_type": "display_data"
    }
   ],
   "source": [
    "# draw box plot to check outliers\n",
    "sns.set_style(\"darkgrid\",{'axes.grid' : True})\n",
    "sns.boxplot(x=df['view'], orient='h')"
   ]
  },
  {
   "cell_type": "code",
   "execution_count": 39,
   "id": "59ad9543",
   "metadata": {},
   "outputs": [
    {
     "name": "stdout",
     "output_type": "stream",
     "text": [
      "Q1: 0.0 Q3: 0.0 min: 0.0 max: 0.0\n",
      "Len of outliers under min 0 Len of outliers above max 1736\n"
     ]
    }
   ],
   "source": [
    "Q1 = np.quantile(df['view'], 0.25)\n",
    "Q3 = np.quantile(df['view'], 0.75)\n",
    "IQR = Q3 - Q1\n",
    "lower_thresh = Q1 - 1.5 * IQR\n",
    "upper_thresh = Q3 + 1.5 * IQR\n",
    "print(\"Q1:\", Q1, \"Q3:\", Q3, \"min:\", lower_thresh, \"max:\", upper_thresh)\n",
    "print(\"Len of outliers under min\", len(df[df['view']< lower_thresh]), \"Len of outliers above max\", len(df[df['view']> upper_thresh]))"
   ]
  },
  {
   "cell_type": "markdown",
   "id": "a306667e",
   "metadata": {},
   "source": [
    "Here we notice that there are 1736 outliers above max. We have created the standard that we will not remove when the outliers number is in the thousands. However, we will also note that the \"view\" variable indicates a rating of the view of the house, and only 1736 out of around 20k instances have this rating. We will not remove them as outliers as that may impact our data integrity, but we will note that this should not therefore be used as a feature in our model, as most of the instances do not have information for this column."
   ]
  },
  {
   "cell_type": "markdown",
   "id": "a7423258",
   "metadata": {},
   "source": [
    "#### condition"
   ]
  },
  {
   "cell_type": "code",
   "execution_count": 40,
   "id": "0504ee43",
   "metadata": {
    "scrolled": false
   },
   "outputs": [
    {
     "data": {
      "text/plain": [
       "<AxesSubplot:xlabel='condition'>"
      ]
     },
     "execution_count": 40,
     "metadata": {},
     "output_type": "execute_result"
    },
    {
     "data": {
      "image/png": "[encoded data removed]",
      "text/plain": [
       "<Figure size 640x480 with 1 Axes>"
      ]
     },
     "metadata": {},
     "output_type": "display_data"
    }
   ],
   "source": [
    "# draw box plot to check outliers\n",
    "sns.set_style(\"darkgrid\",{'axes.grid' : True})\n",
    "sns.boxplot(x=df['condition'], orient='h')"
   ]
  },
  {
   "cell_type": "code",
   "execution_count": 41,
   "id": "4336af24",
   "metadata": {
    "scrolled": true
   },
   "outputs": [
    {
     "name": "stdout",
     "output_type": "stream",
     "text": [
      "Q1: 3.0 Q3: 4.0 min: 1.5 max: 5.5\n",
      "Len of outliers under min 24 Len of outliers above max 0\n"
     ]
    }
   ],
   "source": [
    "Q1 = np.quantile(df['condition'], 0.25)\n",
    "Q3 = np.quantile(df['condition'], 0.75)\n",
    "IQR = Q3 - Q1\n",
    "lower_thresh = Q1 - 1.5 * IQR\n",
    "upper_thresh = Q3 + 1.5 * IQR\n",
    "print(\"Q1:\", Q1, \"Q3:\", Q3, \"min:\", lower_thresh, \"max:\", upper_thresh)\n",
    "print(\"Len of outliers under min\", len(df[df['condition']< lower_thresh]), \"Len of outliers above max\", len(df[df['condition']> upper_thresh]))"
   ]
  },
  {
   "cell_type": "code",
   "execution_count": 42,
   "id": "eec9e751",
   "metadata": {},
   "outputs": [
    {
     "data": {
      "text/plain": [
       "(20229, 21)"
      ]
     },
     "execution_count": 42,
     "metadata": {},
     "output_type": "execute_result"
    }
   ],
   "source": [
    "df.shape"
   ]
  },
  {
   "cell_type": "code",
   "execution_count": 43,
   "id": "52f7a359",
   "metadata": {},
   "outputs": [
    {
     "data": {
      "text/plain": [
       "(20205, 21)"
      ]
     },
     "execution_count": 43,
     "metadata": {},
     "output_type": "execute_result"
    }
   ],
   "source": [
    "# Based on the above calculation, and our standard we wrote above, we will remove samples that are outliers\n",
    "df.drop(df[df['condition'] > upper_thresh].index, inplace=True)\n",
    "df.drop(df[df['condition'] < lower_thresh].index, inplace=True)\n",
    "df.shape"
   ]
  },
  {
   "cell_type": "markdown",
   "id": "965e330b",
   "metadata": {},
   "source": [
    "#### grade"
   ]
  },
  {
   "cell_type": "code",
   "execution_count": 44,
   "id": "53b2144b",
   "metadata": {
    "scrolled": true
   },
   "outputs": [
    {
     "data": {
      "text/plain": [
       "<AxesSubplot:xlabel='grade'>"
      ]
     },
     "execution_count": 44,
     "metadata": {},
     "output_type": "execute_result"
    },
    {
     "data": {
      "image/png": "[encoded data removed]",
      "text/plain": [
       "<Figure size 640x480 with 1 Axes>"
      ]
     },
     "metadata": {},
     "output_type": "display_data"
    }
   ],
   "source": [
    "# draw box plot to check outliers\n",
    "sns.set_style(\"darkgrid\",{'axes.grid' : True})\n",
    "sns.boxplot(x=df['grade'], orient='h')"
   ]
  },
  {
   "cell_type": "code",
   "execution_count": 45,
   "id": "d7c3be02",
   "metadata": {},
   "outputs": [
    {
     "name": "stdout",
     "output_type": "stream",
     "text": [
      "Q1: 7.0 Q3: 8.0 min: 5.5 max: 9.5\n",
      "Len of outliers under min 208 Len of outliers above max 969\n"
     ]
    }
   ],
   "source": [
    "Q1 = np.quantile(df['grade'], 0.25)\n",
    "Q3 = np.quantile(df['grade'], 0.75)\n",
    "IQR = Q3 - Q1\n",
    "lower_thresh = Q1 - 1.5 * IQR\n",
    "upper_thresh = Q3 + 1.5 * IQR\n",
    "print(\"Q1:\", Q1, \"Q3:\", Q3, \"min:\", lower_thresh, \"max:\", upper_thresh)\n",
    "print(\"Len of outliers under min\", len(df[df['grade']< lower_thresh]), \"Len of outliers above max\", len(df[df['grade']> upper_thresh]))"
   ]
  },
  {
   "cell_type": "markdown",
   "id": "abf1c5cc",
   "metadata": {},
   "source": [
    "There are too many outliers based on our standard to remove (208 + 969). We will not remove these outliers as they might represent natural variation. Also, it is notable that this variable represents a grade rating, supporting the idea that this is probably natural variation (as some houses must be bad, good, on the extremes on a scale etc)"
   ]
  },
  {
   "cell_type": "markdown",
   "id": "7c327b6c",
   "metadata": {},
   "source": [
    "#### sqft_above"
   ]
  },
  {
   "cell_type": "code",
   "execution_count": 46,
   "id": "9788ce0e",
   "metadata": {
    "scrolled": false
   },
   "outputs": [
    {
     "data": {
      "text/plain": [
       "<AxesSubplot:xlabel='sqft_above'>"
      ]
     },
     "execution_count": 46,
     "metadata": {},
     "output_type": "execute_result"
    },
    {
     "data": {
      "image/png": "[encoded data removed]",
      "text/plain": [
       "<Figure size 640x480 with 1 Axes>"
      ]
     },
     "metadata": {},
     "output_type": "display_data"
    }
   ],
   "source": [
    "# draw box plot to check outliers\n",
    "sns.set_style(\"darkgrid\",{'axes.grid' : True})\n",
    "sns.boxplot(x=df['sqft_above'], orient='h')"
   ]
  },
  {
   "cell_type": "code",
   "execution_count": 47,
   "id": "5f4eeb48",
   "metadata": {},
   "outputs": [
    {
     "name": "stdout",
     "output_type": "stream",
     "text": [
      "Q1: 1180.0 Q3: 2110.0 min: -215.0 max: 3505.0\n",
      "Len of outliers under min 0 Len of outliers above max 356\n"
     ]
    }
   ],
   "source": [
    "Q1 = np.quantile(df['sqft_above'], 0.25)\n",
    "Q3 = np.quantile(df['sqft_above'], 0.75)\n",
    "IQR = Q3 - Q1\n",
    "lower_thresh = Q1 - 1.5 * IQR\n",
    "upper_thresh = Q3 + 1.5 * IQR\n",
    "print(\"Q1:\", Q1, \"Q3:\", Q3, \"min:\", lower_thresh, \"max:\", upper_thresh)\n",
    "print(\"Len of outliers under min\", len(df[df['sqft_above']< lower_thresh]), \"Len of outliers above max\", len(df[df['sqft_above']> upper_thresh]))"
   ]
  },
  {
   "cell_type": "code",
   "execution_count": 48,
   "id": "9c9afdcb",
   "metadata": {},
   "outputs": [
    {
     "data": {
      "text/plain": [
       "(20205, 21)"
      ]
     },
     "execution_count": 48,
     "metadata": {},
     "output_type": "execute_result"
    }
   ],
   "source": [
    "df.shape"
   ]
  },
  {
   "cell_type": "code",
   "execution_count": 49,
   "id": "19d42616",
   "metadata": {},
   "outputs": [
    {
     "data": {
      "text/plain": [
       "(19849, 21)"
      ]
     },
     "execution_count": 49,
     "metadata": {},
     "output_type": "execute_result"
    }
   ],
   "source": [
    "# Based on the above calculation, and our standard we wrote above, we will remove samples that are outliers\n",
    "df.drop(df[df['sqft_above'] > upper_thresh].index, inplace=True)\n",
    "df.drop(df[df['sqft_above'] < lower_thresh].index, inplace=True)\n",
    "df.shape"
   ]
  },
  {
   "cell_type": "markdown",
   "id": "85df1c45",
   "metadata": {},
   "source": [
    "#### sqft_basement"
   ]
  },
  {
   "cell_type": "code",
   "execution_count": 50,
   "id": "45f98aff",
   "metadata": {
    "scrolled": true
   },
   "outputs": [
    {
     "data": {
      "text/plain": [
       "<AxesSubplot:xlabel='sqft_basement'>"
      ]
     },
     "execution_count": 50,
     "metadata": {},
     "output_type": "execute_result"
    },
    {
     "data": {
      "image/png": "[encoded data removed]",
      "text/plain": [
       "<Figure size 640x480 with 1 Axes>"
      ]
     },
     "metadata": {},
     "output_type": "display_data"
    }
   ],
   "source": [
    "# draw box plot to check outliers\n",
    "sns.set_style(\"darkgrid\",{'axes.grid' : True})\n",
    "sns.boxplot(x=df['sqft_basement'], orient='h')"
   ]
  },
  {
   "cell_type": "code",
   "execution_count": 51,
   "id": "a65ab91f",
   "metadata": {},
   "outputs": [
    {
     "name": "stdout",
     "output_type": "stream",
     "text": [
      "Q1: 0.0 Q3: 530.0 min: -795.0 max: 1325.0\n",
      "Len of outliers under min 0 Len of outliers above max 398\n"
     ]
    }
   ],
   "source": [
    "Q1 = np.quantile(df['sqft_basement'], 0.25)\n",
    "Q3 = np.quantile(df['sqft_basement'], 0.75)\n",
    "IQR = Q3 - Q1\n",
    "lower_thresh = Q1 - 1.5 * IQR\n",
    "upper_thresh = Q3 + 1.5 * IQR\n",
    "print(\"Q1:\", Q1, \"Q3:\", Q3, \"min:\", lower_thresh, \"max:\", upper_thresh)\n",
    "print(\"Len of outliers under min\", len(df[df['sqft_basement']< lower_thresh]), \"Len of outliers above max\", len(df[df['sqft_basement']> upper_thresh]))"
   ]
  },
  {
   "cell_type": "code",
   "execution_count": 52,
   "id": "e7847f1f",
   "metadata": {},
   "outputs": [
    {
     "data": {
      "text/plain": [
       "(19849, 21)"
      ]
     },
     "execution_count": 52,
     "metadata": {},
     "output_type": "execute_result"
    }
   ],
   "source": [
    "df.shape"
   ]
  },
  {
   "cell_type": "code",
   "execution_count": 53,
   "id": "03e17985",
   "metadata": {},
   "outputs": [
    {
     "data": {
      "text/plain": [
       "(19451, 21)"
      ]
     },
     "execution_count": 53,
     "metadata": {},
     "output_type": "execute_result"
    }
   ],
   "source": [
    "# Based on the above calculation, and our standard we wrote above, we will remove samples that are outliers\n",
    "df.drop(df[df['sqft_basement'] > upper_thresh].index, inplace=True)\n",
    "df.drop(df[df['sqft_basement'] < lower_thresh].index, inplace=True)\n",
    "df.shape"
   ]
  },
  {
   "cell_type": "markdown",
   "id": "588850ab",
   "metadata": {},
   "source": [
    "#### yr_built"
   ]
  },
  {
   "cell_type": "code",
   "execution_count": 54,
   "id": "fb50f0cf",
   "metadata": {
    "scrolled": false
   },
   "outputs": [
    {
     "data": {
      "text/plain": [
       "<AxesSubplot:xlabel='yr_built'>"
      ]
     },
     "execution_count": 54,
     "metadata": {},
     "output_type": "execute_result"
    },
    {
     "data": {
      "image/png": "[encoded data removed]",
      "text/plain": [
       "<Figure size 640x480 with 1 Axes>"
      ]
     },
     "metadata": {},
     "output_type": "display_data"
    }
   ],
   "source": [
    "# draw box plot to check outliers\n",
    "sns.set_style(\"darkgrid\",{'axes.grid' : True})\n",
    "sns.boxplot(x=df['yr_built'], orient='h')"
   ]
  },
  {
   "cell_type": "code",
   "execution_count": 55,
   "id": "5c42fb22",
   "metadata": {},
   "outputs": [
    {
     "name": "stdout",
     "output_type": "stream",
     "text": [
      "Q1: 1951.0 Q3: 1995.0 min: 1885.0 max: 2061.0\n",
      "Len of outliers under min 0 Len of outliers above max 0\n"
     ]
    }
   ],
   "source": [
    "Q1 = np.quantile(df['yr_built'], 0.25)\n",
    "Q3 = np.quantile(df['yr_built'], 0.75)\n",
    "IQR = Q3 - Q1\n",
    "lower_thresh = Q1 - 1.5 * IQR\n",
    "upper_thresh = Q3 + 1.5 * IQR\n",
    "print(\"Q1:\", Q1, \"Q3:\", Q3, \"min:\", lower_thresh, \"max:\", upper_thresh)\n",
    "print(\"Len of outliers under min\", len(df[df['yr_built']< lower_thresh]), \"Len of outliers above max\", len(df[df['yr_built']> upper_thresh]))"
   ]
  },
  {
   "cell_type": "markdown",
   "id": "609802c6",
   "metadata": {},
   "source": [
    "No outliers."
   ]
  },
  {
   "cell_type": "markdown",
   "id": "7ec9dbb2",
   "metadata": {},
   "source": [
    "#### yr_renovated"
   ]
  },
  {
   "cell_type": "code",
   "execution_count": 56,
   "id": "64ebddbe",
   "metadata": {
    "scrolled": false
   },
   "outputs": [
    {
     "data": {
      "text/plain": [
       "<AxesSubplot:xlabel='yr_renovated'>"
      ]
     },
     "execution_count": 56,
     "metadata": {},
     "output_type": "execute_result"
    },
    {
     "data": {
      "image/png": "[encoded data removed]",
      "text/plain": [
       "<Figure size 640x480 with 1 Axes>"
      ]
     },
     "metadata": {},
     "output_type": "display_data"
    }
   ],
   "source": [
    "# draw box plot to check outliers\n",
    "sns.set_style(\"darkgrid\",{'axes.grid' : True})\n",
    "sns.boxplot(x=df['yr_renovated'], orient='h')"
   ]
  },
  {
   "cell_type": "code",
   "execution_count": 57,
   "id": "5c9936d1",
   "metadata": {},
   "outputs": [
    {
     "name": "stdout",
     "output_type": "stream",
     "text": [
      "Q1: 0.0 Q3: 0.0 min: 0.0 max: 0.0\n",
      "Len of outliers under min 0 Len of outliers above max 762\n"
     ]
    }
   ],
   "source": [
    "Q1 = np.quantile(df['yr_renovated'], 0.25)\n",
    "Q3 = np.quantile(df['yr_renovated'], 0.75)\n",
    "IQR = Q3 - Q1\n",
    "lower_thresh = Q1 - 1.5 * IQR\n",
    "upper_thresh = Q3 + 1.5 * IQR\n",
    "print(\"Q1:\", Q1, \"Q3:\", Q3, \"min:\", lower_thresh, \"max:\", upper_thresh)\n",
    "print(\"Len of outliers under min\", len(df[df['yr_renovated']< lower_thresh]), \"Len of outliers above max\", len(df[df['yr_renovated']> upper_thresh]))"
   ]
  },
  {
   "cell_type": "markdown",
   "id": "dde9a546",
   "metadata": {},
   "source": [
    "In this case, we have 762 outliers, which normally should fit our standard of outliers to remove. However, in this case, it seems that for this particular variable, all the other instances are 0, meaning that there is no information on year renovated. Therefore, it seems like the outliers here have more to do with the fact that the original dataset does not have \"na\" and pre-filled them with 0. We will not remove these outliers as it is rather a problem that the dataset does not normally have data for this column. Rather, we will remove this column as a feature to train our models and do analyses (aka \"drop na\")."
   ]
  },
  {
   "cell_type": "markdown",
   "id": "23ae3cc1",
   "metadata": {},
   "source": [
    "#### sqft_living15"
   ]
  },
  {
   "cell_type": "code",
   "execution_count": 58,
   "id": "fc22fe94",
   "metadata": {
    "scrolled": false
   },
   "outputs": [
    {
     "data": {
      "text/plain": [
       "<AxesSubplot:xlabel='sqft_living15'>"
      ]
     },
     "execution_count": 58,
     "metadata": {},
     "output_type": "execute_result"
    },
    {
     "data": {
      "image/png": "[encoded data removed]",
      "text/plain": [
       "<Figure size 640x480 with 1 Axes>"
      ]
     },
     "metadata": {},
     "output_type": "display_data"
    }
   ],
   "source": [
    "# draw box plot to check outliers\n",
    "sns.set_style(\"darkgrid\",{'axes.grid' : True})\n",
    "sns.boxplot(x=df['sqft_living15'], orient='h')"
   ]
  },
  {
   "cell_type": "code",
   "execution_count": 59,
   "id": "9b12c780",
   "metadata": {},
   "outputs": [
    {
     "name": "stdout",
     "output_type": "stream",
     "text": [
      "Q1: 1460.0 Q3: 2250.0 min: 275.0 max: 3435.0\n",
      "Len of outliers under min 0 Len of outliers above max 253\n"
     ]
    }
   ],
   "source": [
    "Q1 = np.quantile(df['sqft_living15'], 0.25)\n",
    "Q3 = np.quantile(df['sqft_living15'], 0.75)\n",
    "IQR = Q3 - Q1\n",
    "lower_thresh = Q1 - 1.5 * IQR\n",
    "upper_thresh = Q3 + 1.5 * IQR\n",
    "print(\"Q1:\", Q1, \"Q3:\", Q3, \"min:\", lower_thresh, \"max:\", upper_thresh)\n",
    "print(\"Len of outliers under min\", len(df[df['sqft_living15']< lower_thresh]), \"Len of outliers above max\", len(df[df['sqft_living15']> upper_thresh]))"
   ]
  },
  {
   "cell_type": "code",
   "execution_count": 60,
   "id": "b61cb150",
   "metadata": {},
   "outputs": [
    {
     "data": {
      "text/plain": [
       "(19451, 21)"
      ]
     },
     "execution_count": 60,
     "metadata": {},
     "output_type": "execute_result"
    }
   ],
   "source": [
    "df.shape"
   ]
  },
  {
   "cell_type": "code",
   "execution_count": 61,
   "id": "83370b15",
   "metadata": {},
   "outputs": [
    {
     "data": {
      "text/plain": [
       "(19198, 21)"
      ]
     },
     "execution_count": 61,
     "metadata": {},
     "output_type": "execute_result"
    }
   ],
   "source": [
    "# Based on the above calculation, and our standard we wrote above, we will remove samples that are outliers\n",
    "df.drop(df[df['sqft_living15'] > upper_thresh].index, inplace=True)\n",
    "df.drop(df[df['sqft_living15'] < lower_thresh].index, inplace=True)\n",
    "df.shape"
   ]
  },
  {
   "cell_type": "markdown",
   "id": "77432890",
   "metadata": {},
   "source": [
    "#### sqft_lot15"
   ]
  },
  {
   "cell_type": "code",
   "execution_count": 62,
   "id": "c7a0b02c",
   "metadata": {
    "scrolled": false
   },
   "outputs": [
    {
     "data": {
      "text/plain": [
       "<AxesSubplot:xlabel='sqft_lot15'>"
      ]
     },
     "execution_count": 62,
     "metadata": {},
     "output_type": "execute_result"
    },
    {
     "data": {
      "image/png": "[encoded data removed]",
      "text/plain": [
       "<Figure size 640x480 with 1 Axes>"
      ]
     },
     "metadata": {},
     "output_type": "display_data"
    }
   ],
   "source": [
    "# draw box plot to check outliers\n",
    "sns.set_style(\"darkgrid\",{'axes.grid' : True})\n",
    "sns.boxplot(x=df['sqft_lot15'], orient='h')"
   ]
  },
  {
   "cell_type": "code",
   "execution_count": 63,
   "id": "d7844303",
   "metadata": {},
   "outputs": [
    {
     "name": "stdout",
     "output_type": "stream",
     "text": [
      "Q1: 5000.0 Q3: 9680.0 min: -2020.0 max: 16700.0\n",
      "Len of outliers under min 0 Len of outliers above max 1644\n"
     ]
    }
   ],
   "source": [
    "Q1 = np.quantile(df['sqft_lot15'], 0.25)\n",
    "Q3 = np.quantile(df['sqft_lot15'], 0.75)\n",
    "IQR = Q3 - Q1\n",
    "lower_thresh = Q1 - 1.5 * IQR\n",
    "upper_thresh = Q3 + 1.5 * IQR\n",
    "print(\"Q1:\", Q1, \"Q3:\", Q3, \"min:\", lower_thresh, \"max:\", upper_thresh)\n",
    "print(\"Len of outliers under min\", len(df[df['sqft_lot15']< lower_thresh]), \"Len of outliers above max\", len(df[df['sqft_lot15']> upper_thresh]))"
   ]
  },
  {
   "cell_type": "markdown",
   "id": "d8c50deb",
   "metadata": {},
   "source": [
    "Adhereing to the standards we set above, 1644 outliers is too many to remove as it may be natural variation."
   ]
  },
  {
   "cell_type": "markdown",
   "id": "cc51fe32",
   "metadata": {},
   "source": [
    "In the data cleaning process, we have justified each outlier removal process according to the standard we set above. Notably, we have noticed that we should drop the columns \"waterfront\" \"view\" and \"yr_renovated\" as it seems they are technically columns with many NA values that have been pre-filled to be 0.\n",
    "\n",
    "Also, we have not touched zipcode, lat, long for the cleaning process as the \"outliers\" would not make sense as outliers, as these are geographical information and as such the outliers will not be well captured by IQR."
   ]
  },
  {
   "cell_type": "code",
   "execution_count": 66,
   "id": "f3f6153a",
   "metadata": {},
   "outputs": [],
   "source": [
    "# We should decide whether to drop zipcode/lat/long columns"
   ]
  },
  {
   "cell_type": "code",
   "execution_count": 64,
   "id": "4cb48e30",
   "metadata": {},
   "outputs": [],
   "source": [
    "# Drop columns\n",
    "df.drop(columns=[\"waterfront\", \"view\", \"yr_renovated\"], inplace=True)"
   ]
  },
  {
   "cell_type": "code",
   "execution_count": 65,
   "id": "b3f8d270",
   "metadata": {},
   "outputs": [
    {
     "data": {
      "text/plain": [
       "Index(['id', 'date', 'price', 'bedrooms', 'bathrooms', 'sqft_living',\n",
       "       'sqft_lot', 'floors', 'condition', 'grade', 'sqft_above',\n",
       "       'sqft_basement', 'yr_built', 'zipcode', 'lat', 'long', 'sqft_living15',\n",
       "       'sqft_lot15'],\n",
       "      dtype='object')"
      ]
     },
     "execution_count": 65,
     "metadata": {},
     "output_type": "execute_result"
    }
   ],
   "source": [
    "df.columns"
   ]
  },
  {
   "cell_type": "markdown",
   "id": "c6f81d74",
   "metadata": {},
   "source": [
    "## Exploratory data analysis"
   ]
  },
  {
   "cell_type": "code",
   "execution_count": null,
   "id": "c663a8df",
   "metadata": {},
   "outputs": [],
   "source": []
  }
 ],
 "metadata": {
  "kernelspec": {
   "display_name": "Python 3 (ipykernel)",
   "language": "python",
   "name": "python3"
  },
  "language_info": {
   "codemirror_mode": {
    "name": "ipython",
    "version": 3
   },
   "file_extension": ".py",
   "mimetype": "text/x-python",
   "name": "python",
   "nbconvert_exporter": "python",
   "pygments_lexer": "ipython3",
   "version": "3.9.13"
  }
 },
 "nbformat": 4,
 "nbformat_minor": 5
}
